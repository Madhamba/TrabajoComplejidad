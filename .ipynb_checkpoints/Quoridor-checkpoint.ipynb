{
 "cells": [
  {
   "cell_type": "markdown",
   "metadata": {},
   "source": [
    "# Introducción"
   ]
  },
  {
   "cell_type": "markdown",
   "metadata": {},
   "source": [
    "El presente trabajo presenta el desarrollo del juego Quoridor como trabajo del curso de Complejidad Algorítmica. El objetivo del trabajo es utilizar los conocimientos adquiridos en clase en la solución de problemas y en la búsqueda de posibles soluciones a estos. Enfocandose en que la respuesta sea convincente y la más eficiente.\n",
    "\n",
    "El desarrollo del juego ayudará a hacer uso de estructuras de datos y algoritmos mostrados en el curso. Así, podemos demostrar ser capaces de utilizar estas herramientas en problemas que se presentan en el transcurso de nuestra vida. Estas herramientas, se utilizar día a día en diversas situaciones. Si bien las personas no se enfocan en volver a crearlas, estás necesitan entenderlas para poder darles uso y crear soluciones innovadoras.\n",
    "\n",
    "El grupo es conformado por estudiantes de la carrera de Ingeniería de Software. Nuestra motivación para el trabajo es poder ser participes del diseño de un juego que involucre el uso de algoritmos para su desarrollo. Asimismo, nos motiva la metodología cientifica que tiene el proyecto para su realización, ya que nos permite estar en los zapatos de una persona que estudia estos temas a mayor profundidad y a entender su motivación y su cariño a su futura profesión."
   ]
  },
  {
   "cell_type": "markdown",
   "metadata": {},
   "source": [
    "# Estado del Arte"
   ]
  },
  {
   "cell_type": "markdown",
   "metadata": {},
   "source": [
    "Los algoritmos usados en el implementación del proyecto se listan a continuación:\n",
    "\n",
    "*   Depth-first search\n",
    "*   Breadth-first search\n",
    "*   A*\n",
    "*   Dijkstra\n",
    "\n",
    "Se evaluará el resultado de cada uno estos al usarlos en el proyecto y se observarán los resultados para poder llegar a conclusiones. Se planea utilizar, para cada jugador, uno de los algoritmos mencionados en la lista de arriba. Así, tendremos una manera de compararlos."
   ]
  },
  {
   "cell_type": "markdown",
   "metadata": {},
   "source": [
    "# Metodología"
   ]
  },
  {
   "cell_type": "markdown",
   "metadata": {},
   "source": [
    "Para el juego, se genera un table de *n* filas y *m* columnas. Estas variables pueden ser modificadas por el usuario haciendo uso de los campos que se encuentran al lado derecho de los bloques de código. Con esta facilidad para cambiar los valores de los datos del tablero, podemos experimentar con diferentes dimensiones. En este caso, se están tomando como datos de entrada los siguientes valores:\n",
    "\n",
    "*   Elemento de lista\n",
    "*   Elemento de lista"
   ]
  },
  {
   "cell_type": "markdown",
   "metadata": {},
   "source": [
    "# Experimentos"
   ]
  },
  {
   "cell_type": "code",
   "execution_count": null,
   "metadata": {},
   "outputs": [],
   "source": [
    "import networkx as nx"
   ]
  },
  {
   "cell_type": "markdown",
   "metadata": {},
   "source": [
    "Luego de importar los módulos necesarios para el desarrollo del programa, implementamos una función cuya funcionalidad será la de generar los tableros.\n",
    "\n",
    "`generate_board(n, m)`: generar un grafo con forma de una matriz 2D. Se necesita especificar el número de filas ***n*** y el número de columnas ***m***"
   ]
  },
  {
   "cell_type": "code",
   "execution_count": null,
   "metadata": {},
   "outputs": [],
   "source": [
    "def generate_board(n, m):\n",
    "  return nx.grid_2d_graph(n, m)\n",
    "\n",
    "n =  5#@param {type:\"integer\"}\n",
    "m =  5#@param {type:\"integer\"}\n",
    "\n",
    "G = nx.grid_2d_graph(n, m)\n",
    "pos = nx.spring_layout(G, iterations=100)\n",
    "nx.draw(G, pos, with_labels=True)"
   ]
  },
  {
   "cell_type": "code",
   "execution_count": null,
   "metadata": {},
   "outputs": [],
   "source": [
    "n_player =  2#@param {type:\"integer\"}\n",
    "\n",
    "# Asignación de las posiciones de cada jugador            \n",
    "def get_init_pos(p):\n",
    "  positions = { \n",
    "    1: (0, m // 2),         # Posición jugador 1\n",
    "    2: (n - 1, m // 2),     # Posición jugador 3\n",
    "    3: (n // 2, 0),         # Posición jugador 2\n",
    "    4: (n // 2, m - 1)      # Posición jugador 4\n",
    "  }\n",
    "  return positions[p]\n",
    "\n",
    "for i in range(n_player):\n",
    "  print('Jugador ' + str(i + 1) + ':', get_init_pos(i + 1))"
   ]
  }
 ],
 "metadata": {
  "kernelspec": {
   "display_name": "Python 3",
   "language": "python",
   "name": "python3"
  },
  "language_info": {
   "codemirror_mode": {
    "name": "ipython",
    "version": 3
   },
   "file_extension": ".py",
   "mimetype": "text/x-python",
   "name": "python",
   "nbconvert_exporter": "python",
   "pygments_lexer": "ipython3",
   "version": "3.8.3"
  }
 },
 "nbformat": 4,
 "nbformat_minor": 4
}
