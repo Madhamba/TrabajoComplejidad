{
 "cells": [
  {
   "cell_type": "markdown",
   "source": [
    "# Introducción"
   ],
   "metadata": {
    "collapsed": false
   }
  },
  {
   "cell_type": "markdown",
   "source": [
    "El presente trabajo presenta el desarrollo del juego Quoridor como trabajo del curso de Complejidad Algorítmica. El objetivo del trabajo es utilizar los conocimientos adquiridos en clase en la solución de problemas y en la búsqueda de posibles soluciones a estos. Enfocandose en que la respuesta sea convincente y la más eficiente.\n",
    "\n",
    "El desarrollo del juego ayudará a hacer uso de estructuras de datos y algoritmos mostrados en el curso. Así, podemos demostrar ser capaces de utilizar estas herramientas en problemas que se presentan en el transcurso de nuestra vida. Estas herramientas, se utilizar día a día en diversas situaciones. Si bien las personas no se enfocan en volver a crearlas, estás necesitan entenderlas para poder darles uso y crear soluciones innovadoras.\n",
    "\n",
    "El grupo es conformado por estudiantes de la carrera de Ingeniería de Software. Nuestra motivación para el trabajo es poder ser participes del diseño de un juego que involucre el uso de algoritmos para su desarrollo. Asimismo, nos motiva la metodología cientifica que tiene el proyecto para su realización, ya que nos permite estar en los zapatos de una persona que estudia estos temas a mayor profundidad y a entender su motivación y su cariño a su futura profesión."
   ],
   "metadata": {
    "collapsed": false
   }
  },
  {
   "cell_type": "markdown",
   "source": [
    "# Estado del Arte"
   ],
   "metadata": {
    "collapsed": false
   }
  },
  {
   "cell_type": "markdown",
   "source": [
    "Los algoritmos usados en el implementación del proyecto se listan a continuación:\n",
    "\n",
    "*   Depth-first search\n",
    "*   Breadth-first search\n",
    "*   A*\n",
    "*   Dijkstra\n",
    "\n",
    "Se evaluará el resultado de cada uno estos al usarlos en el proyecto y se observarán los resultados para poder llegar a conclusiones. Se planea utilizar, para cada jugador, uno de los algoritmos mencionados en la lista de arriba. Así, tendremos una manera de compararlos.\n",
    "\n",
    "\n",
    "\n",
    "Asimismo, se implementará una función que pueda medir los tiempos que toma cada uno de los algoritmos. Esto nos ayudará al momento de compararlos."
   ],
   "metadata": {
    "collapsed": false
   }
  },
  {
   "cell_type": "markdown",
   "source": [
    "# Metodología\n",
    "\n",
    "Para el juego, se genera un table de $n$ filas y $m$ columnas. Estas variables pueden ser modificadas por el usuario haciendo uso de los campos que se encuentran al lado derecho de los bloques de código. Con esta facilidad para cambiar los valores de los datos del tablero, podemos experimentar con diferentes dimensiones. En este caso, se están tomando como datos de entrada los siguientes valores, cada punto representa las dimensiones del tablero a utilizar de la forma $n \\times m$, donde $n$ representa las filas y $m$ las columnas:\n",
    "\n",
    "*   $9\\times9$\n",
    "*   $99\\times99$\n",
    "*   $999\\times999$\n",
    "*   $9999\\times9999$\n",
    "*   $99999\\times99999$\n",
    "*   $999999\\times999999$\n",
    "\n",
    "Como se puede apreciar en la lista mostrada anteriormente, los valores son de la forma $10^i - 1$, así podemos tomar una muestra en donde los valores crezcan de forma rápida y determinar una aproximación para el valor en donde los algoritmos utilizados para el proyecto empiezan a dejar de ser tan eficientes.\n",
    "\n",
    "Para los jugadores, como se mencionó en la sección **Estado del Arte**, se planea usar los algoritmos mencionados de forma que cada jugador funcione con un algoritmo de la lista. así podremos ver las diferencias entre cada uno de estos."
   ],
   "metadata": {
    "collapsed": false
   }
  },
  {
   "cell_type": "markdown",
   "source": [
    "# Experimentos"
   ],
   "metadata": {
    "collapsed": false
   }
  },
  {
   "cell_type": "code",
   "execution_count": null,
   "outputs": [],
   "source": [
    "import networkx as nx"
   ],
   "metadata": {
    "collapsed": false,
    "pycharm": {
     "name": "#%%\n"
    }
   }
  },
  {
   "cell_type": "markdown",
   "source": [
    "Luego de importar los módulos necesarios para el desarrollo del programa, implementamos una función cuya funcionalidad será la de generar los tableros.\n",
    "\n",
    "`generate_board(n, m)`: generar un grafo con forma de una matriz 2D. Se necesita especificar el número de filas ***n*** y el número de columnas ***m***"
   ],
   "metadata": {
    "collapsed": false
   }
  },
  {
   "cell_type": "code",
   "execution_count": null,
   "outputs": [],
   "source": [
    "def generate_board(n, m):\n",
    "  return nx.grid_2d_graph(n, m)\n",
    "\n",
    "n =  5#@param {type:\"integer\"}\n",
    "m =  5#@param {type:\"integer\"}\n",
    "\n",
    "G = nx.grid_2d_graph(n, m)\n",
    "pos = nx.spring_layout(G, iterations=100)\n",
    "nx.draw(G, pos, with_labels=True)"
   ],
   "metadata": {
    "collapsed": false,
    "pycharm": {
     "name": "#%%\n"
    }
   }
  },
  {
   "cell_type": "code",
   "execution_count": null,
   "outputs": [],
   "source": [
    "n_player =  2#@param {type:\"integer\"}\n",
    "\n",
    "# Asignación de las posiciones de cada jugador            \n",
    "def get_init_pos(p):\n",
    "  positions = { \n",
    "    1: (0, m // 2),         # Posición jugador 1\n",
    "    2: (n - 1, m // 2),     # Posición jugador 3\n",
    "    3: (n // 2, 0),         # Posición jugador 2\n",
    "    4: (n // 2, m - 1)      # Posición jugador 4\n",
    "  }\n",
    "  return positions[p]\n",
    "\n",
    "for i in range(n_player):\n",
    "  print('Jugador ' + str(i + 1) + ':', get_init_pos(i + 1))"
   ],
   "metadata": {
    "collapsed": false,
    "pycharm": {
     "name": "#%%\n"
    }
   }
  },
  {
   "cell_type": "code",
   "execution_count": null,
   "outputs": [],
   "source": [
    "n_player =  2#@param {type:\"integer\"}\n",
    "\n",
    "# Asignación de las posiciones de cada jugador            \n",
    "def get_init_pos(p):\n",
    "  positions = { \n",
    "    1: (0, m // 2),         # Posición jugador 1\n",
    "    2: (n - 1, m // 2),     # Posición jugador 3\n",
    "    3: (n // 2, 0),         # Posición jugador 2\n",
    "    4: (n // 2, m - 1)      # Posición jugador 4\n",
    "  }\n",
    "  return positions[p]\n",
    "\n",
    "for i in range(n_player):\n",
    "  print('Jugador ' + str(i + 1) + ':', get_init_pos(i + 1))"
   ],
   "metadata": {
    "collapsed": false,
    "pycharm": {
     "name": "#%%\n"
    }
   }
  },
  {
   "cell_type": "markdown",
   "source": [
    "# Resultados"
   ],
   "metadata": {
    "collapsed": false
   }
  },
  {
   "cell_type": "markdown",
   "source": [
    "# Conclusiones"
   ],
   "metadata": {
    "collapsed": false
   }
  },
  {
   "cell_type": "code",
   "execution_count": null,
   "outputs": [],
   "source": [],
   "metadata": {
    "collapsed": false,
    "pycharm": {
     "name": "#%%\n"
    }
   }
  }
 ],
 "metadata": {
  "kernelspec": {
   "display_name": "Python 3",
   "language": "python",
   "name": "python3"
  },
  "language_info": {
   "codemirror_mode": {
    "name": "ipython",
    "version": 3
   },
   "file_extension": ".py",
   "mimetype": "text/x-python",
   "name": "python",
   "nbconvert_exporter": "python",
   "pygments_lexer": "ipython3",
   "version": "3.8.3"
  }
 },
 "nbformat": 4,
 "nbformat_minor": 4
}